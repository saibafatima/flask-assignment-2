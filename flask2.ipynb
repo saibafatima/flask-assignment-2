{
 "cells": [
  {
   "cell_type": "code",
   "execution_count": 1,
   "id": "9cd18c96-65a2-4566-a5c0-bd5e5ee2ea19",
   "metadata": {},
   "outputs": [
    {
     "ename": "SyntaxError",
     "evalue": "invalid syntax (1293201411.py, line 1)",
     "output_type": "error",
     "traceback": [
      "\u001b[0;36m  Cell \u001b[0;32mIn[1], line 1\u001b[0;36m\u001b[0m\n\u001b[0;31m    Q1. Explain GET and POST methods.\u001b[0m\n\u001b[0m                ^\u001b[0m\n\u001b[0;31mSyntaxError\u001b[0m\u001b[0;31m:\u001b[0m invalid syntax\n"
     ]
    }
   ],
   "source": [
    "Q1. Explain GET and POST methods.\n",
    "\n",
    "GET Method:\n",
    "\n",
    "The GET method is used to retrieve data from a server. It is the most commonly used HTTP method. When a GET request is sent, the browser sends a request to the server to retrieve a specific resource. The request includes the URL of the resource and any query parameters.\n",
    "\n",
    "Here are some key characteristics of the GET method:\n",
    "\n",
    "It is used to retrieve data from the server.\n",
    "It is a read-only operation.\n",
    "The request is sent using the URL and query parameters.\n",
    "The data is sent in the URL, which makes it visible to the user.\n",
    "It is cacheable, meaning that the browser can cache the response to reduce the number of requests to the server.\n",
    "POST Method:\n",
    "\n",
    "The POST method is used to send data to a server to create a new resource or update an existing one. When a POST request is sent, the browser sends a request to the server with data in the request body.\n",
    "\n",
    "Here are some key characteristics of the POST method:\n",
    "\n",
    "It is used to send data to the server to create or update a resource.\n",
    "It is a write operation.\n",
    "The request is sent using the URL and the request body.\n",
    "The data is sent in the request body, which makes it not visible to the user.\n",
    "It is not cacheable, meaning that the browser will not cache the response."
   ]
  },
  {
   "cell_type": "code",
   "execution_count": 2,
   "id": "1426d34a-77d5-4936-8fde-095b7417d860",
   "metadata": {},
   "outputs": [
    {
     "ename": "SyntaxError",
     "evalue": "invalid syntax (2442538395.py, line 3)",
     "output_type": "error",
     "traceback": [
      "\u001b[0;36m  Cell \u001b[0;32mIn[2], line 3\u001b[0;36m\u001b[0m\n\u001b[0;31m    In Flask, the request object is used to access the data sent with the HTTP request. It is an object that contains information about the current request, such as the URL, headers, form data, and query parameters.\u001b[0m\n\u001b[0m       ^\u001b[0m\n\u001b[0;31mSyntaxError\u001b[0m\u001b[0;31m:\u001b[0m invalid syntax\n"
     ]
    }
   ],
   "source": [
    "Q2. Why is request used in Flask?\n",
    "\n",
    "In Flask, the request object is used to access the data sent with the HTTP request. It is an object that contains information about the current request, such as the URL, headers, form data, and query parameters.\n",
    "\n",
    "The request object is used to:\n",
    "\n",
    "Access the request data, such as form data, query parameters, and JSON data.\n",
    "Check the request method, such as GET, POST, PUT, or DELETE.\n",
    "Get the request headers, such as the User-Agent and Accept-Language headers.\n",
    "Here is an example of how to use the request object in Fla"
   ]
  },
  {
   "cell_type": "code",
   "execution_count": 1,
   "id": "b07a64c3-e61e-46ab-a60e-9d8a10f21c11",
   "metadata": {},
   "outputs": [
    {
     "ename": "NameError",
     "evalue": "name 'app' is not defined",
     "output_type": "error",
     "traceback": [
      "\u001b[0;31m---------------------------------------------------------------------------\u001b[0m",
      "\u001b[0;31mNameError\u001b[0m                                 Traceback (most recent call last)",
      "Cell \u001b[0;32mIn[1], line 3\u001b[0m\n\u001b[1;32m      1\u001b[0m \u001b[38;5;28;01mfrom\u001b[39;00m \u001b[38;5;21;01mflask\u001b[39;00m \u001b[38;5;28;01mimport\u001b[39;00m request\n\u001b[0;32m----> 3\u001b[0m \u001b[38;5;129m@app\u001b[39m\u001b[38;5;241m.\u001b[39mroute(\u001b[38;5;124m'\u001b[39m\u001b[38;5;124m/users\u001b[39m\u001b[38;5;124m'\u001b[39m, methods\u001b[38;5;241m=\u001b[39m[\u001b[38;5;124m'\u001b[39m\u001b[38;5;124mPOST\u001b[39m\u001b[38;5;124m'\u001b[39m])\n\u001b[1;32m      4\u001b[0m \u001b[38;5;28;01mdef\u001b[39;00m \u001b[38;5;21mcreate_user\u001b[39m():\n\u001b[1;32m      5\u001b[0m     username \u001b[38;5;241m=\u001b[39m request\u001b[38;5;241m.\u001b[39mform[\u001b[38;5;124m'\u001b[39m\u001b[38;5;124musername\u001b[39m\u001b[38;5;124m'\u001b[39m]\n\u001b[1;32m      6\u001b[0m     email \u001b[38;5;241m=\u001b[39m request\u001b[38;5;241m.\u001b[39mform[\u001b[38;5;124m'\u001b[39m\u001b[38;5;124memail\u001b[39m\u001b[38;5;124m'\u001b[39m]\n",
      "\u001b[0;31mNameError\u001b[0m: name 'app' is not defined"
     ]
    }
   ],
   "source": [
    "from flask import request\n",
    "\n",
    "@app.route('/users', methods=['POST'])\n",
    "def create_user():\n",
    "    username = request.form['username']\n",
    "    email = request.form['email']\n",
    "    # Create a new user with the provided data\n",
    "    return 'User created successfully!'"
   ]
  },
  {
   "cell_type": "code",
   "execution_count": 2,
   "id": "7881467c-cf91-407e-9338-63fcaa77ef3e",
   "metadata": {},
   "outputs": [
    {
     "name": "stdout",
     "output_type": "stream",
     "text": [
      "Requirement already satisfied: flask in /opt/conda/lib/python3.10/site-packages (3.0.3)\n",
      "Requirement already satisfied: click>=8.1.3 in /opt/conda/lib/python3.10/site-packages (from flask) (8.1.3)\n",
      "Requirement already satisfied: Werkzeug>=3.0.0 in /opt/conda/lib/python3.10/site-packages (from flask) (3.0.3)\n",
      "Requirement already satisfied: Jinja2>=3.1.2 in /opt/conda/lib/python3.10/site-packages (from flask) (3.1.2)\n",
      "Requirement already satisfied: blinker>=1.6.2 in /opt/conda/lib/python3.10/site-packages (from flask) (1.8.2)\n",
      "Requirement already satisfied: itsdangerous>=2.1.2 in /opt/conda/lib/python3.10/site-packages (from flask) (2.2.0)\n",
      "Requirement already satisfied: MarkupSafe>=2.0 in /opt/conda/lib/python3.10/site-packages (from Jinja2>=3.1.2->flask) (2.1.1)\n",
      "Note: you may need to restart the kernel to use updated packages.\n"
     ]
    }
   ],
   "source": [
    "pip install flask"
   ]
  },
  {
   "cell_type": "code",
   "execution_count": 3,
   "id": "a31b1478-d831-4018-87b1-8a8331a6679a",
   "metadata": {},
   "outputs": [
    {
     "ename": "NameError",
     "evalue": "name 'app' is not defined",
     "output_type": "error",
     "traceback": [
      "\u001b[0;31m---------------------------------------------------------------------------\u001b[0m",
      "\u001b[0;31mNameError\u001b[0m                                 Traceback (most recent call last)",
      "Cell \u001b[0;32mIn[3], line 3\u001b[0m\n\u001b[1;32m      1\u001b[0m \u001b[38;5;28;01mfrom\u001b[39;00m \u001b[38;5;21;01mflask\u001b[39;00m \u001b[38;5;28;01mimport\u001b[39;00m request\n\u001b[0;32m----> 3\u001b[0m \u001b[38;5;129m@app\u001b[39m\u001b[38;5;241m.\u001b[39mroute(\u001b[38;5;124m'\u001b[39m\u001b[38;5;124m/users\u001b[39m\u001b[38;5;124m'\u001b[39m, methods\u001b[38;5;241m=\u001b[39m[\u001b[38;5;124m'\u001b[39m\u001b[38;5;124mPOST\u001b[39m\u001b[38;5;124m'\u001b[39m])\n\u001b[1;32m      4\u001b[0m \u001b[38;5;28;01mdef\u001b[39;00m \u001b[38;5;21mcreate_user\u001b[39m():\n\u001b[1;32m      5\u001b[0m     username \u001b[38;5;241m=\u001b[39m request\u001b[38;5;241m.\u001b[39mform[\u001b[38;5;124m'\u001b[39m\u001b[38;5;124musername\u001b[39m\u001b[38;5;124m'\u001b[39m]\n\u001b[1;32m      6\u001b[0m     email \u001b[38;5;241m=\u001b[39m request\u001b[38;5;241m.\u001b[39mform[\u001b[38;5;124m'\u001b[39m\u001b[38;5;124memail\u001b[39m\u001b[38;5;124m'\u001b[39m]\n",
      "\u001b[0;31mNameError\u001b[0m: name 'app' is not defined"
     ]
    }
   ],
   "source": [
    "from flask import request\n",
    "\n",
    "@app.route('/users', methods=['POST'])\n",
    "def create_user():\n",
    "    username = request.form['username']\n",
    "    email = request.form['email']\n",
    "    # Create a new user with the provided data\n",
    "    return 'User created successfully!'"
   ]
  },
  {
   "cell_type": "code",
   "execution_count": 4,
   "id": "7fd62b49-65e9-448b-b700-4dfc9c9b2b1b",
   "metadata": {},
   "outputs": [
    {
     "ename": "SyntaxError",
     "evalue": "invalid syntax (2003585188.py, line 3)",
     "output_type": "error",
     "traceback": [
      "\u001b[0;36m  Cell \u001b[0;32mIn[4], line 3\u001b[0;36m\u001b[0m\n\u001b[0;31m    In Flask, the redirect() function is used to redirect the user to a different URL. It is often used after a form submission or when a user is not authorized to access a certain page.\u001b[0m\n\u001b[0m       ^\u001b[0m\n\u001b[0;31mSyntaxError\u001b[0m\u001b[0;31m:\u001b[0m invalid syntax\n"
     ]
    }
   ],
   "source": [
    "Q3. Why is redirect() used in Flask?\n",
    "\n",
    "In Flask, the redirect() function is used to redirect the user to a different URL. It is often used after a form submission or when a user is not authorized to access a certain page.\n",
    "\n",
    "The redirect() function takes a URL as an argument and returns a response object that redirects the user to that URL.\n",
    "\n",
    "Here is an example of how to use the redirect() function in Flask:"
   ]
  },
  {
   "cell_type": "code",
   "execution_count": 7,
   "id": "1c62e1fa-6ede-42a0-942c-0f570e258535",
   "metadata": {},
   "outputs": [
    {
     "ename": "NameError",
     "evalue": "name 'app' is not defined",
     "output_type": "error",
     "traceback": [
      "\u001b[0;31m---------------------------------------------------------------------------\u001b[0m",
      "\u001b[0;31mNameError\u001b[0m                                 Traceback (most recent call last)",
      "Cell \u001b[0;32mIn[7], line 3\u001b[0m\n\u001b[1;32m      1\u001b[0m \u001b[38;5;28;01mfrom\u001b[39;00m \u001b[38;5;21;01mflask\u001b[39;00m \u001b[38;5;28;01mimport\u001b[39;00m redirect, url_for\n\u001b[0;32m----> 3\u001b[0m \u001b[38;5;129m@app\u001b[39m\u001b[38;5;241m.\u001b[39mroute(\u001b[38;5;124m'\u001b[39m\u001b[38;5;124m/login\u001b[39m\u001b[38;5;124m'\u001b[39m, methods\u001b[38;5;241m=\u001b[39m[\u001b[38;5;124m'\u001b[39m\u001b[38;5;124mPOST\u001b[39m\u001b[38;5;124m'\u001b[39m])\n\u001b[1;32m      4\u001b[0m \u001b[38;5;28;01mdef\u001b[39;00m \u001b[38;5;21mlogin\u001b[39m():\n\u001b[1;32m      5\u001b[0m     \u001b[38;5;66;03m# Check the login credentials\u001b[39;00m\n\u001b[1;32m      6\u001b[0m     \u001b[38;5;28;01mif\u001b[39;00m valid_credentials:\n\u001b[1;32m      7\u001b[0m         \u001b[38;5;28;01mreturn\u001b[39;00m redirect(url_for(\u001b[38;5;124m'\u001b[39m\u001b[38;5;124mdashboard\u001b[39m\u001b[38;5;124m'\u001b[39m))\n",
      "\u001b[0;31mNameError\u001b[0m: name 'app' is not defined"
     ]
    }
   ],
   "source": [
    "from flask import redirect, url_for\n",
    "\n",
    "@app.route('/login', methods=['POST'])\n",
    "def login():\n",
    "    # Check the login credentials\n",
    "    if valid_credentials:\n",
    "        return redirect(url_for('dashboard'))\n",
    "    else:\n",
    "        return 'Invalid credentials', 401"
   ]
  },
  {
   "cell_type": "code",
   "execution_count": 6,
   "id": "3c50ad17-ef0c-4ffa-b43c-2fd73d875243",
   "metadata": {},
   "outputs": [
    {
     "ename": "SyntaxError",
     "evalue": "invalid syntax (2714853847.py, line 3)",
     "output_type": "error",
     "traceback": [
      "\u001b[0;36m  Cell \u001b[0;32mIn[6], line 3\u001b[0;36m\u001b[0m\n\u001b[0;31m    In Flask, templates are HTML files that contain placeholders for dynamic data. They are used to separate the presentation layer from the application logic.\u001b[0m\n\u001b[0m       ^\u001b[0m\n\u001b[0;31mSyntaxError\u001b[0m\u001b[0;31m:\u001b[0m invalid syntax\n"
     ]
    }
   ],
   "source": [
    "Q4. What are templates in Flask? Why is the render_template() function used?\n",
    "\n",
    "In Flask, templates are HTML files that contain placeholders for dynamic data. They are used to separate the presentation layer from the application logic.\n",
    "\n",
    "The render_template() function is used to render a template with dynamic data. It takes the template name and a dictionary of variables as arguments, and returns a response object with the rendered HTML.\n",
    "\n",
    "Here is an example of how to use the render_template() function in Flask:"
   ]
  },
  {
   "cell_type": "code",
   "execution_count": 8,
   "id": "c3a00eb4-0460-4bb7-a790-fdabaa7e2487",
   "metadata": {},
   "outputs": [
    {
     "ename": "NameError",
     "evalue": "name 'app' is not defined",
     "output_type": "error",
     "traceback": [
      "\u001b[0;31m---------------------------------------------------------------------------\u001b[0m",
      "\u001b[0;31mNameError\u001b[0m                                 Traceback (most recent call last)",
      "Cell \u001b[0;32mIn[8], line 3\u001b[0m\n\u001b[1;32m      1\u001b[0m \u001b[38;5;28;01mfrom\u001b[39;00m \u001b[38;5;21;01mflask\u001b[39;00m \u001b[38;5;28;01mimport\u001b[39;00m render_template\n\u001b[0;32m----> 3\u001b[0m \u001b[38;5;129m@app\u001b[39m\u001b[38;5;241m.\u001b[39mroute(\u001b[38;5;124m'\u001b[39m\u001b[38;5;124m/users/<username>\u001b[39m\u001b[38;5;124m'\u001b[39m)\n\u001b[1;32m      4\u001b[0m \u001b[38;5;28;01mdef\u001b[39;00m \u001b[38;5;21muser_profile\u001b[39m(username):\n\u001b[1;32m      5\u001b[0m     user \u001b[38;5;241m=\u001b[39m User\u001b[38;5;241m.\u001b[39mquery\u001b[38;5;241m.\u001b[39mget(username)\n\u001b[1;32m      6\u001b[0m     \u001b[38;5;28;01mreturn\u001b[39;00m render_template(\u001b[38;5;124m'\u001b[39m\u001b[38;5;124muser_profile.html\u001b[39m\u001b[38;5;124m'\u001b[39m, user\u001b[38;5;241m=\u001b[39muser)\n",
      "\u001b[0;31mNameError\u001b[0m: name 'app' is not defined"
     ]
    }
   ],
   "source": [
    "from flask import render_template\n",
    "\n",
    "@app.route('/users/<username>')\n",
    "def user_profile(username):\n",
    "    user = User.query.get(username)\n",
    "    return render_template('user_profile.html', user=user)"
   ]
  },
  {
   "cell_type": "code",
   "execution_count": null,
   "id": "309b2455-319c-4df1-b212-3162b0ee5b53",
   "metadata": {},
   "outputs": [],
   "source": []
  }
 ],
 "metadata": {
  "kernelspec": {
   "display_name": "Python 3 (ipykernel)",
   "language": "python",
   "name": "python3"
  },
  "language_info": {
   "codemirror_mode": {
    "name": "ipython",
    "version": 3
   },
   "file_extension": ".py",
   "mimetype": "text/x-python",
   "name": "python",
   "nbconvert_exporter": "python",
   "pygments_lexer": "ipython3",
   "version": "3.10.8"
  }
 },
 "nbformat": 4,
 "nbformat_minor": 5
}
